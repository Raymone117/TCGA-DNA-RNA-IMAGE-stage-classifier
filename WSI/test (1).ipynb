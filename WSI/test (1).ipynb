{
 "cells": [
  {
   "metadata": {
    "ExecuteTime": {
     "end_time": "2025-09-28T18:17:20.292435Z",
     "start_time": "2025-09-28T18:17:17.757323Z"
    }
   },
   "cell_type": "code",
   "source": [
    "import os\n",
    "import json\n",
    "import joblib\n",
    "import numpy as np\n",
    "import pandas as pd\n",
    "from pathlib import Path\n",
    "import flwr as fl\n",
    "\n",
    "# ===== 参数设置 =====\n",
    "SERVER       = \"127.0.0.1:8080\"\n",
    "FEATURES_CSV = \"wsi_stage_features_topk_4class_split.csv\"   # 包含所有病人特征的文件\n",
    "MODEL_PATH   = \"new_stage_classifier_gbdt.pkl\"           # 你训练好的模型\n",
    "MODALITY     = \"WSI\"\n",
    "N_CLASSES    = 4\n",
    "WEIGHT       = 1.0\n",
    "\n",
    "# ===== 自动获取 test 病人列表（从 .svs 文件名中提取）=====\n",
    "TEST_IMG_DIR = r\"C:\\Users\\zxy01\\Desktop\\svs\"\n",
    "test_pids = [\n",
    "    \"-\".join(os.path.splitext(f)[0].split(\"-\")[:3])\n",
    "    for f in os.listdir(TEST_IMG_DIR)\n",
    "    if f.endswith(\".svs\")\n",
    "]\n",
    "print(f\"[INFO] Found {len(test_pids)} test patients.\")\n",
    "\n",
    "# ===== 读取特征 CSV 和模型 =====\n",
    "df = pd.read_csv(FEATURES_CSV)\n",
    "model = joblib.load(MODEL_PATH)\n",
    "\n",
    "# ===== 提取特征列（所有 cnn_ 开头 + 其他人工特征）=====\n",
    "feature_cols = [c for c in df.columns if c.startswith(\"cnn_\")] + [\n",
    "    \"tumor_frac\", \"largest_cc_frac\", \"cc_count\", \"cc_small_frac\", \"frag_ratio\"\n",
    "]\n",
    "\n",
    "# ===== 提取测试数据（根据 patient_id 匹配）=====\n",
    "df[\"pid\"] = df[\"path\"].apply(lambda x: \"-\".join(Path(x).stem.split(\"-\")[:3]))\n",
    "df_test = df[df[\"pid\"].isin(test_pids)].copy()\n",
    "df_test = df_test.drop_duplicates(\"pid\") \n",
    "x_test = df_test[feature_cols].values\n",
    "pid_list = df_test[\"pid\"].tolist()\n",
    "print(f\"[INFO] Matched {len(pid_list)} patients with features.\")\n",
    "\n",
    "# ===== 构造联邦客户端：输出 softmax =====\n",
    "class SoftmaxClient(fl.client.NumPyClient):\n",
    "    def __init__(self, pids, features, model, modality, weight, n_classes):\n",
    "        self.pids = pids\n",
    "        self.x = features\n",
    "        self.model = model\n",
    "        self.modality = modality\n",
    "        self.weight_for_fusion = float(weight)\n",
    "        self.n_classes = n_classes\n",
    "\n",
    "    def get_parameters(self, config):\n",
    "        return []\n",
    "\n",
    "    def fit(self, parameters, config):\n",
    "        return [], 0, {}\n",
    "\n",
    "    def evaluate(self, parameters, config):\n",
    "        task = config.get(\"task\", \"\")\n",
    "        metrics = {}\n",
    "\n",
    "        if task == \"predict\":\n",
    "            rows = []\n",
    "            probs_all = self.model.predict_proba(self.x)\n",
    "            print(f\"[INFO] Predicting for {len(self.pids)} patients...\")\n",
    "\n",
    "            for pid, probs in zip(self.pids, probs_all):\n",
    "                probs = np.clip(probs.astype(float), 1e-9, 1.0)\n",
    "                probs = probs / probs.sum()\n",
    "                row = {\n",
    "                    \"patient_id\": pid,\n",
    "                    \"probs\": probs.tolist(),\n",
    "                    \"modality\": self.modality,\n",
    "                    \"weight\": self.weight_for_fusion\n",
    "                }\n",
    "                print(f\"[PREDICT] {row}\")  # ✅ 正确：现在 row 有定义\n",
    "                rows.append(row)\n",
    "\n",
    "            metrics = {\"preds_json\": json.dumps(rows).encode(\"utf-8\")}\n",
    "            print(f\"[INFO] Finished prediction. Sent {len(rows)} results to server.\")\n",
    "\n",
    "        return 0.0, len(self.pids), metrics"
   ],
   "id": "3c631446ae7651e3",
   "outputs": [
    {
     "name": "stdout",
     "output_type": "stream",
     "text": [
      "[INFO] Found 20 test patients.\n",
      "[INFO] Matched 20 patients with features.\n"
     ]
    }
   ],
   "execution_count": 1
  },
  {
   "metadata": {
    "ExecuteTime": {
     "end_time": "2025-09-28T18:17:23.892328Z",
     "start_time": "2025-09-28T18:17:22.243717Z"
    }
   },
   "cell_type": "code",
   "source": [
    "# ===== 启动联邦客户端 =====\n",
    "client = SoftmaxClient(pid_list, x_test, model, MODALITY, WEIGHT, N_CLASSES)\n",
    "fl.client.start_numpy_client(server_address=SERVER, client=client)"
   ],
   "id": "4f32f5e9718ba22f",
   "outputs": [
    {
     "name": "stderr",
     "output_type": "stream",
     "text": [
      "\u001B[93mWARNING \u001B[0m:   DEPRECATED FEATURE: flwr.client.start_numpy_client() is deprecated. \n",
      "\tInstead, use `flwr.client.start_client()` by ensuring you first call the `.to_client()` method as shown below: \n",
      "\tflwr.client.start_client(\n",
      "\t\tserver_address='<IP>:<PORT>',\n",
      "\t\tclient=FlowerClient().to_client(), # <-- where FlowerClient is of type flwr.client.NumPyClient object\n",
      "\t)\n",
      "\tUsing `start_numpy_client()` is deprecated.\n",
      "\n",
      "            This is a deprecated feature. It will be removed\n",
      "            entirely in future versions of Flower.\n",
      "        \n",
      "\u001B[93mWARNING \u001B[0m:   DEPRECATED FEATURE: flwr.client.start_client() is deprecated.\n",
      "\tInstead, use the `flower-supernode` CLI command to start a SuperNode as shown below:\n",
      "\n",
      "\t\t$ flower-supernode --insecure --superlink='<IP>:<PORT>'\n",
      "\n",
      "\tTo view all available options, run:\n",
      "\n",
      "\t\t$ flower-supernode --help\n",
      "\n",
      "\tUsing `start_client()` is deprecated.\n",
      "\n",
      "            This is a deprecated feature. It will be removed\n",
      "            entirely in future versions of Flower.\n",
      "        \n",
      "\u001B[92mINFO \u001B[0m:      \n",
      "\u001B[92mINFO \u001B[0m:      Received: get_parameters message 126c9225-371c-40f2-8169-57eccb342e75\n",
      "\u001B[92mINFO \u001B[0m:      Sent reply\n",
      "\u001B[92mINFO \u001B[0m:      \n",
      "\u001B[92mINFO \u001B[0m:      Received: evaluate message 3e8e2024-668d-4da1-a3aa-6545f3102799\n",
      "\u001B[92mINFO \u001B[0m:      Sent reply\n",
      "\u001B[92mINFO \u001B[0m:      \n",
      "\u001B[92mINFO \u001B[0m:      Received: reconnect message aebcbefc-ba5f-4315-9daa-d5800a372b21\n",
      "\u001B[92mINFO \u001B[0m:      Disconnect and shut down\n"
     ]
    },
    {
     "name": "stdout",
     "output_type": "stream",
     "text": [
      "[INFO] Predicting for 20 patients...\n",
      "[PREDICT] {'patient_id': 'TCGA-A2-A04N', 'probs': [0.997132319267581, 0.0003141789444394046, 0.002405289189611794, 0.00014821259836774866], 'modality': 'WSI', 'weight': 1.0}\n",
      "[PREDICT] {'patient_id': 'TCGA-A2-A04R', 'probs': [0.9960244582618463, 0.002914198636091929, 0.0005468330096172574, 0.0005145100924446099], 'modality': 'WSI', 'weight': 1.0}\n",
      "[PREDICT] {'patient_id': 'TCGA-A2-A0T3', 'probs': [0.9967437845333696, 0.0015624140805702593, 0.0015078585145455333, 0.00018594287151463138], 'modality': 'WSI', 'weight': 1.0}\n",
      "[PREDICT] {'patient_id': 'TCGA-A2-A3XZ', 'probs': [0.996105920569524, 0.00281130159105442, 0.0008478151243569298, 0.00023496271506457986], 'modality': 'WSI', 'weight': 1.0}\n",
      "[PREDICT] {'patient_id': 'TCGA-A7-A26E', 'probs': [0.9972449587699398, 0.001405317273501436, 0.0009502539396642957, 0.00039947001689438863], 'modality': 'WSI', 'weight': 1.0}\n",
      "[PREDICT] {'patient_id': 'TCGA-A7-A426', 'probs': [0.5270273223601764, 0.001833717093735818, 0.4700935051875953, 0.001045455358492436], 'modality': 'WSI', 'weight': 1.0}\n",
      "[PREDICT] {'patient_id': 'TCGA-E2-A14U', 'probs': [0.20789981668224972, 0.6277970321734305, 0.16199070354825879, 0.002312447596060976], 'modality': 'WSI', 'weight': 1.0}\n",
      "[PREDICT] {'patient_id': 'TCGA-E2-A15P', 'probs': [0.20558735506120646, 0.061616589767623416, 0.7304104183010691, 0.0023856368701010554], 'modality': 'WSI', 'weight': 1.0}\n",
      "[PREDICT] {'patient_id': 'TCGA-E2-A1II', 'probs': [0.103687560887132, 0.11014430312104732, 0.7846291715445293, 0.001538964447291465], 'modality': 'WSI', 'weight': 1.0}\n",
      "[PREDICT] {'patient_id': 'TCGA-E2-A1IU', 'probs': [0.22889703391244226, 0.14362142149476903, 0.18802667162282358, 0.4394548729699651], 'modality': 'WSI', 'weight': 1.0}\n",
      "[PREDICT] {'patient_id': 'TCGA-A8-A093', 'probs': [0.0008713799289258712, 0.9964010916515933, 0.0020716930114012904, 0.00065583540807953], 'modality': 'WSI', 'weight': 1.0}\n",
      "[PREDICT] {'patient_id': 'TCGA-AC-A2FB', 'probs': [0.0016083637394169912, 0.9956820159337193, 0.002123270866297684, 0.0005863494605659944], 'modality': 'WSI', 'weight': 1.0}\n",
      "[PREDICT] {'patient_id': 'TCGA-A8-A090', 'probs': [0.012768050454002953, 0.7154007010815273, 0.2701881594380279, 0.0016430890264418313], 'modality': 'WSI', 'weight': 1.0}\n",
      "[PREDICT] {'patient_id': 'TCGA-E2-A574', 'probs': [0.782345582714691, 0.05707624353413259, 0.06392640327836355, 0.09665177047281294], 'modality': 'WSI', 'weight': 1.0}\n",
      "[PREDICT] {'patient_id': 'TCGA-HN-A2NL', 'probs': [0.019490594017781877, 0.9180381003378629, 0.06094672427236763, 0.0015245813719875984], 'modality': 'WSI', 'weight': 1.0}\n",
      "[PREDICT] {'patient_id': 'TCGA-LD-A7W6', 'probs': [0.24252162154932277, 0.6545308362204163, 0.06846890666363324, 0.03447863556662771], 'modality': 'WSI', 'weight': 1.0}\n",
      "[PREDICT] {'patient_id': 'TCGA-A8-A09Q', 'probs': [0.11910787399890078, 0.3683565132206047, 0.37110257412433917, 0.14143303865615542], 'modality': 'WSI', 'weight': 1.0}\n",
      "[PREDICT] {'patient_id': 'TCGA-A8-A09X', 'probs': [0.791971523772595, 0.009932171148991979, 0.195237413477032, 0.0028588916013808498], 'modality': 'WSI', 'weight': 1.0}\n",
      "[PREDICT] {'patient_id': 'TCGA-E9-A54Y', 'probs': [0.0318508213120102, 0.8584250332235334, 0.10575520661869792, 0.00396893884575848], 'modality': 'WSI', 'weight': 1.0}\n",
      "[PREDICT] {'patient_id': 'TCGA-PL-A8LX', 'probs': [0.014517016314978532, 0.06067704149075875, 0.6081270136659983, 0.3166789285282644], 'modality': 'WSI', 'weight': 1.0}\n",
      "[INFO] Finished prediction. Sent 20 results to server.\n"
     ]
    }
   ],
   "execution_count": 2
  }
 ],
 "metadata": {
  "kernelspec": {
   "display_name": "Python 3 (ipykernel)",
   "language": "python",
   "name": "python3"
  },
  "language_info": {
   "codemirror_mode": {
    "name": "ipython",
    "version": 3
   },
   "file_extension": ".py",
   "mimetype": "text/x-python",
   "name": "python",
   "nbconvert_exporter": "python",
   "pygments_lexer": "ipython3",
   "version": "3.12.3"
  }
 },
 "nbformat": 4,
 "nbformat_minor": 5
}
