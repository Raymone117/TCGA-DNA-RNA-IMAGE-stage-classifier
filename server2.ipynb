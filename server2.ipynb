{
 "cells": [
  {
   "cell_type": "code",
   "execution_count": null,
   "id": "1e29260f-c948-44b9-b97e-8df67a78b004",
   "metadata": {},
   "outputs": [
    {
     "name": "stderr",
     "output_type": "stream",
     "text": [
      "\u001b[93mWARNING \u001b[0m:   DEPRECATED FEATURE: flwr.server.start_server() is deprecated.\n",
      "\tInstead, use the `flower-superlink` CLI command to start a SuperLink as shown below:\n",
      "\n",
      "\t\t$ flower-superlink --insecure\n",
      "\n",
      "\tTo view usage and all available options, run:\n",
      "\n",
      "\t\t$ flower-superlink --help\n",
      "\n",
      "\tUsing `start_server()` is deprecated.\n",
      "\n",
      "            This is a deprecated feature. It will be removed\n",
      "            entirely in future versions of Flower.\n",
      "        \n",
      "\u001b[92mINFO \u001b[0m:      Starting Flower server, config: num_rounds=3, no round_timeout\n",
      "\u001b[92mINFO \u001b[0m:      Flower ECE: gRPC server running (3 rounds), SSL is disabled\n",
      "\u001b[92mINFO \u001b[0m:      [INIT]\n",
      "\u001b[92mINFO \u001b[0m:      Requesting initial parameters from one random client\n"
     ]
    }
   ],
   "source": [
    "# server_probs_agg.py\n",
    "import flwr as fl\n",
    "from typing import List, Dict, Tuple\n",
    "\n",
    "def agg_eval_metrics(metrics: List[Dict]) -> Dict:\n",
    "    # metrics 形如 [{\"probs_sum\":[...], \"count\":N, \"acc\":...}, ...]\n",
    "    total = sum(m[\"count\"] for m in metrics if \"count\" in m)\n",
    "    if total == 0:\n",
    "        return {}\n",
    "    C = len(metrics[0][\"probs_sum\"])\n",
    "    summed = [0.0]*C\n",
    "    for m in metrics:\n",
    "        ps = m.get(\"probs_sum\")\n",
    "        if ps is None: \n",
    "            continue\n",
    "        for i in range(C):\n",
    "            summed[i] += ps[i]\n",
    "    avg_probs = [x/total for x in summed]  # 全局平均概率（可存盘用于后续融合）\n",
    "    # 也可把 acc 做样本加权平均：\n",
    "    acc = sum(m.get(\"acc\",0.0)*m.get(\"count\",0) for m in metrics)/total\n",
    "    return {\"avg_probs\": avg_probs, \"global_acc_weighted\": acc, \"N_total\": total}\n",
    "\n",
    "strategy = fl.server.strategy.FedAvg(\n",
    "    # 跳过“参数意义”，只借壳通信与metrics聚合\n",
    "    min_available_clients=2,\n",
    "    min_fit_clients=2,\n",
    "    fraction_fit=1.0,\n",
    "    fraction_evaluate=1.0,\n",
    "    evaluate_metrics_aggregation_fn=agg_eval_metrics,\n",
    ")\n",
    "\n",
    "fl.server.start_server(\n",
    "    server_address=\"0.0.0.0:8080\",\n",
    "    strategy=strategy,\n",
    "    config=fl.server.ServerConfig(num_rounds=3),\n",
    ")\n"
   ]
  },
  {
   "cell_type": "code",
   "execution_count": null,
   "id": "50ed18b1-e71f-4b12-a80b-990790773011",
   "metadata": {},
   "outputs": [],
   "source": []
  }
 ],
 "metadata": {
  "kernelspec": {
   "display_name": "Python 3 (ipykernel)",
   "language": "python",
   "name": "python3"
  },
  "language_info": {
   "codemirror_mode": {
    "name": "ipython",
    "version": 3
   },
   "file_extension": ".py",
   "mimetype": "text/x-python",
   "name": "python",
   "nbconvert_exporter": "python",
   "pygments_lexer": "ipython3",
   "version": "3.12.3"
  }
 },
 "nbformat": 4,
 "nbformat_minor": 5
}
